{
  "nbformat": 4,
  "nbformat_minor": 0,
  "metadata": {
    "colab": {
      "provenance": []
    },
    "kernelspec": {
      "name": "python3",
      "display_name": "Python 3"
    },
    "language_info": {
      "name": "python"
    }
  },
  "cells": [
    {
      "cell_type": "code",
      "execution_count": 2,
      "metadata": {
        "colab": {
          "base_uri": "https://localhost:8080/"
        },
        "id": "I2AxwmKk-kBL",
        "outputId": "e6571e86-9564-4fdc-dae3-9d2e5312cfec"
      },
      "outputs": [
        {
          "output_type": "stream",
          "name": "stdout",
          "text": [
            "-2\n"
          ]
        }
      ],
      "source": [
        "import tensorflow as tf\n",
        "tf.compat.v1.disable_eager_execution()\n",
        "a=tf.constant(5)\n",
        "b=tf.constant(7)\n",
        "c=tf.subtract(a,b)\n",
        "with tf.compat.v1.Session() as sess:\n",
        "  outs = sess.run(c)\n",
        "  print(outs)"
      ]
    }
  ]
}